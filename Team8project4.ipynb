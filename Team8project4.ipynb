{
 "cells": [
  {
   "cell_type": "code",
   "execution_count": 1,
   "metadata": {},
   "outputs": [],
   "source": [
    "import numpy as np\n",
    "import pandas as pd\n",
    "from sklearn.model_selection import ShuffleSplit\n",
    "from sklearn.linear_model import LinearRegression\n",
    "from sklearn.preprocessing import OneHotEncoder\n",
    "import seaborn as sns\n",
    "from xgboost import plot_importance\n",
    "from matplotlib import pyplot as plt\n",
    "from sklearn.metrics import roc_auc_score\n",
    "from sklearn.model_selection import cross_val_score\n",
    "from sklearn import metrics\n",
    "import xgboost as xgb\n",
    "from sklearn.metrics import classification_report"
   ]
  },
  {
   "cell_type": "markdown",
   "metadata": {},
   "source": [
    "### Data Processing"
   ]
  },
  {
   "cell_type": "code",
   "execution_count": 62,
   "metadata": {},
   "outputs": [],
   "source": [
    "train = pd.read_csv('train.csv')\n",
    "test = pd.read_csv(\"test.csv\")"
   ]
  },
  {
   "cell_type": "code",
   "execution_count": 225,
   "metadata": {},
   "outputs": [],
   "source": [
    "test['variety']='Unknown'"
   ]
  },
  {
   "cell_type": "code",
   "execution_count": 227,
   "metadata": {},
   "outputs": [],
   "source": [
    "data = pd.concat([train,test])"
   ]
  },
  {
   "cell_type": "code",
   "execution_count": 63,
   "metadata": {},
   "outputs": [],
   "source": [
    "from sklearn import preprocessing\n",
    "\n",
    "X, Y = train.iloc[:, :-1], train.iloc[:, -1]\n"
   ]
  },
  {
   "cell_type": "code",
   "execution_count": 71,
   "metadata": {},
   "outputs": [
    {
     "data": {
      "text/plain": [
       "id                0\n",
       "description       0\n",
       "points            0\n",
       "variety           0\n",
       "country          23\n",
       "province         23\n",
       "price          3247\n",
       "dtype: int64"
      ]
     },
     "execution_count": 71,
     "metadata": {},
     "output_type": "execute_result"
    }
   ],
   "source": [
    "train.isnull().sum().sort_values()"
   ]
  },
  {
   "cell_type": "code",
   "execution_count": 233,
   "metadata": {},
   "outputs": [
    {
     "data": {
      "text/html": [
       "<div>\n",
       "<style scoped>\n",
       "    .dataframe tbody tr th:only-of-type {\n",
       "        vertical-align: middle;\n",
       "    }\n",
       "\n",
       "    .dataframe tbody tr th {\n",
       "        vertical-align: top;\n",
       "    }\n",
       "\n",
       "    .dataframe thead th {\n",
       "        text-align: right;\n",
       "    }\n",
       "</style>\n",
       "<table border=\"1\" class=\"dataframe\">\n",
       "  <thead>\n",
       "    <tr style=\"text-align: right;\">\n",
       "      <th></th>\n",
       "      <th>country</th>\n",
       "      <th>description</th>\n",
       "      <th>province</th>\n",
       "      <th>variety</th>\n",
       "    </tr>\n",
       "  </thead>\n",
       "  <tbody>\n",
       "    <tr>\n",
       "      <td>0</td>\n",
       "      <td>US</td>\n",
       "      <td>A nice starter Pinot for the price. Will intro...</td>\n",
       "      <td>California</td>\n",
       "      <td>Pinot Noir</td>\n",
       "    </tr>\n",
       "    <tr>\n",
       "      <td>1</td>\n",
       "      <td>Germany</td>\n",
       "      <td>This wine comes out of the bottle a little cra...</td>\n",
       "      <td>Mosel-Saar-Ruwer</td>\n",
       "      <td>Riesling</td>\n",
       "    </tr>\n",
       "    <tr>\n",
       "      <td>2</td>\n",
       "      <td>US</td>\n",
       "      <td>This easy-drinking Pinot Noir offers layers of...</td>\n",
       "      <td>California</td>\n",
       "      <td>Pinot Noir</td>\n",
       "    </tr>\n",
       "    <tr>\n",
       "      <td>3</td>\n",
       "      <td>France</td>\n",
       "      <td>An attractive and ripely fruited Cab, this ope...</td>\n",
       "      <td>France Other</td>\n",
       "      <td>Cabernet Sauvignon</td>\n",
       "    </tr>\n",
       "    <tr>\n",
       "      <td>4</td>\n",
       "      <td>US</td>\n",
       "      <td>The vineyard is located in the western part of...</td>\n",
       "      <td>California</td>\n",
       "      <td>Pinot Noir</td>\n",
       "    </tr>\n",
       "    <tr>\n",
       "      <td>...</td>\n",
       "      <td>...</td>\n",
       "      <td>...</td>\n",
       "      <td>...</td>\n",
       "      <td>...</td>\n",
       "    </tr>\n",
       "    <tr>\n",
       "      <td>14261</td>\n",
       "      <td>US</td>\n",
       "      <td>The aromas of this rosé of Cabernet Sauvignon,...</td>\n",
       "      <td>Virginia</td>\n",
       "      <td>Unknown</td>\n",
       "    </tr>\n",
       "    <tr>\n",
       "      <td>14262</td>\n",
       "      <td>France</td>\n",
       "      <td>This powerful effort is holding back on its ri...</td>\n",
       "      <td>Bordeaux</td>\n",
       "      <td>Unknown</td>\n",
       "    </tr>\n",
       "    <tr>\n",
       "      <td>14263</td>\n",
       "      <td>US</td>\n",
       "      <td>This wine consists of all five red Bordeaux va...</td>\n",
       "      <td>California</td>\n",
       "      <td>Unknown</td>\n",
       "    </tr>\n",
       "    <tr>\n",
       "      <td>14264</td>\n",
       "      <td>US</td>\n",
       "      <td>Here's a likeable Chard, with peach, pear and ...</td>\n",
       "      <td>California</td>\n",
       "      <td>Unknown</td>\n",
       "    </tr>\n",
       "    <tr>\n",
       "      <td>14265</td>\n",
       "      <td>Australia</td>\n",
       "      <td>Featuring tobacco, cassis and lesser quantitie...</td>\n",
       "      <td>South Australia</td>\n",
       "      <td>Unknown</td>\n",
       "    </tr>\n",
       "  </tbody>\n",
       "</table>\n",
       "<p>71322 rows × 4 columns</p>\n",
       "</div>"
      ],
      "text/plain": [
       "         country                                        description  \\\n",
       "0             US  A nice starter Pinot for the price. Will intro...   \n",
       "1        Germany  This wine comes out of the bottle a little cra...   \n",
       "2             US  This easy-drinking Pinot Noir offers layers of...   \n",
       "3         France  An attractive and ripely fruited Cab, this ope...   \n",
       "4             US  The vineyard is located in the western part of...   \n",
       "...          ...                                                ...   \n",
       "14261         US  The aromas of this rosé of Cabernet Sauvignon,...   \n",
       "14262     France  This powerful effort is holding back on its ri...   \n",
       "14263         US  This wine consists of all five red Bordeaux va...   \n",
       "14264         US  Here's a likeable Chard, with peach, pear and ...   \n",
       "14265  Australia  Featuring tobacco, cassis and lesser quantitie...   \n",
       "\n",
       "               province             variety  \n",
       "0            California          Pinot Noir  \n",
       "1      Mosel-Saar-Ruwer            Riesling  \n",
       "2            California          Pinot Noir  \n",
       "3          France Other  Cabernet Sauvignon  \n",
       "4            California          Pinot Noir  \n",
       "...                 ...                 ...  \n",
       "14261          Virginia             Unknown  \n",
       "14262          Bordeaux             Unknown  \n",
       "14263        California             Unknown  \n",
       "14264        California             Unknown  \n",
       "14265   South Australia             Unknown  \n",
       "\n",
       "[71322 rows x 4 columns]"
      ]
     },
     "execution_count": 233,
     "metadata": {},
     "output_type": "execute_result"
    }
   ],
   "source": [
    "df = data.copy()\n",
    "df.select_dtypes(include=['object'])"
   ]
  },
  {
   "cell_type": "code",
   "execution_count": 66,
   "metadata": {},
   "outputs": [
    {
     "name": "stdout",
     "output_type": "stream",
     "text": [
      "the number of categorical columns 4\n",
      "the number of columns 6\n"
     ]
    },
    {
     "data": {
      "text/plain": [
       "id                0\n",
       "description       0\n",
       "points            0\n",
       "variety           0\n",
       "country          23\n",
       "province         23\n",
       "price          3247\n",
       "dtype: int64"
      ]
     },
     "execution_count": 66,
     "metadata": {},
     "output_type": "execute_result"
    }
   ],
   "source": [
    "# see if there are missing entries in the dataset features\n",
    "categorical_columns = df.select_dtypes(include=['object']).columns\n",
    "print('the number of categorical columns',len(categorical_columns))\n",
    "print('the number of columns',len(X.columns))\n",
    "train.isnull().sum().sort_values()"
   ]
  },
  {
   "cell_type": "code",
   "execution_count": 67,
   "metadata": {},
   "outputs": [
    {
     "name": "stdout",
     "output_type": "stream",
     "text": [
      "the missing rate of country: 0.04 %\n",
      "the missing rate of province: 0.04 %\n",
      "the missing rate of price: 5.69 %\n"
     ]
    }
   ],
   "source": [
    "rate1 = round(X.isnull().sum().sort_values()[-3]/len(df)*100,2)\n",
    "rate2 = round(X.isnull().sum().sort_values()[-2]/len(df)*100,2)\n",
    "rate3 = round(X.isnull().sum().sort_values()[-1]/len(df)*100,2)\n",
    "print('the missing rate of country: %s %%' %  rate1)\n",
    "print('the missing rate of province: %s %%' %  rate2)\n",
    "print('the missing rate of price: %s %%' %  rate3)"
   ]
  },
  {
   "cell_type": "code",
   "execution_count": 234,
   "metadata": {},
   "outputs": [],
   "source": [
    "df.fillna({'country': 'Missing', 'province': 'Missing'}, inplace=True)"
   ]
  },
  {
   "cell_type": "code",
   "execution_count": 235,
   "metadata": {},
   "outputs": [
    {
     "name": "stdout",
     "output_type": "stream",
     "text": [
      "price mean of training data: 38.120459158380555\n"
     ]
    }
   ],
   "source": [
    "price_mean = df['price'].mean()\n",
    "df.fillna({'price':price_mean}, inplace=True)\n",
    "print('price mean of training data:',price_mean)"
   ]
  },
  {
   "cell_type": "markdown",
   "metadata": {},
   "source": [
    "#### encode the categorical variables"
   ]
  },
  {
   "cell_type": "code",
   "execution_count": 273,
   "metadata": {},
   "outputs": [],
   "source": [
    "X_des = df.description.tolist()\n",
    "clean_X = df.drop(columns = ['description'])\n",
    "from sklearn.preprocessing import LabelEncoder \n",
    "labelencoder= LabelEncoder() #initializing an object of class LabelEncoder\n",
    "categorical_columns = clean_X.select_dtypes(include=['object']).columns\n",
    "for categorical_column in categorical_columns:\n",
    "    clean_X[categorical_column] = labelencoder.fit_transform(clean_X[categorical_column]) #fitting and transforming the desired categorical column.\n"
   ]
  },
  {
   "cell_type": "code",
   "execution_count": 312,
   "metadata": {},
   "outputs": [],
   "source": [
    "variety_idx = clean_X.variety.tolist()\n",
    "variety = df.variety.tolist()\n",
    "variety_dic = {}\n",
    "for i in range(len(variety)):\n",
    "    if variety_idx[i] not in variety_dic:\n",
    "        variety_dic[variety_idx[i]]=variety[i]\n",
    "country_idx = clean_X.country.tolist()\n",
    "country = df.country.tolist()\n",
    "country_dic = {}\n",
    "for i in range(len(country)):\n",
    "    if country_idx[i] not in country_dic:\n",
    "        country_dic[country[i]]=country_idx[i]\n",
    "province_idx = clean_X.province.tolist()\n",
    "province = df.province.tolist()\n",
    "province_dic = {}\n",
    "for i in range(len(province)):\n",
    "    if province_idx[i] not in province_dic:\n",
    "        province_dic[province[i]]=province_idx[i]"
   ]
  },
  {
   "cell_type": "code",
   "execution_count": 276,
   "metadata": {},
   "outputs": [],
   "source": [
    "test_df = clean_X[clean_X.id>57055].drop(columns = ['id','variety'])"
   ]
  },
  {
   "cell_type": "code",
   "execution_count": 277,
   "metadata": {},
   "outputs": [],
   "source": [
    "train_df = clean_X[clean_X.id<=57055].drop(columns = ['id'])"
   ]
  },
  {
   "cell_type": "code",
   "execution_count": 78,
   "metadata": {},
   "outputs": [
    {
     "name": "stdout",
     "output_type": "stream",
     "text": [
      "Counter({4: 10617, 2: 9402, 1: 7577, 5: 7157, 0: 5532, 6: 4151, 8: 3973, 9: 3314, 7: 2851, 3: 2482})\n"
     ]
    },
    {
     "data": {
      "image/png": "[encoded data removed]",
      "text/plain": [
       "<Figure size 432x288 with 1 Axes>"
      ]
     },
     "metadata": {
      "needs_background": "light"
     },
     "output_type": "display_data"
    }
   ],
   "source": [
    "from collections import Counter\n",
    "from sklearn.datasets import make_classification\n",
    "from matplotlib import pyplot\n",
    "from numpy import where\n",
    "# define dataset\n",
    "y=clean_X.variety.to_numpy()\n",
    "x=clean_X.to_numpy()\n",
    "counter = Counter(y)\n",
    "print(counter)\n",
    "# scatter plot of examples by class label\n",
    "for label, _ in counter.items():\n",
    "\trow_ix = where(y == label)[0]\n",
    "\tpyplot.scatter(x[row_ix, 1], x[row_ix, 2], label=str(label))\n",
    "pyplot.legend()\n",
    "pyplot.title('Distribution of labels')\n",
    "pyplot.show()"
   ]
  },
  {
   "cell_type": "markdown",
   "metadata": {},
   "source": [
    "## Text processing "
   ]
  },
  {
   "cell_type": "markdown",
   "metadata": {},
   "source": [
    "3 steps\n",
    "- Remove numbers and punctuations\n",
    "- Remove stop words\n",
    "- Stem words"
   ]
  },
  {
   "cell_type": "code",
   "execution_count": 97,
   "metadata": {},
   "outputs": [],
   "source": [
    "import re\n",
    "# Define a function to remove numbers and punctuations\n",
    "def remove_num_punc(words):\n",
    "    # remove all numbers and punctuations\n",
    "    pattern = r\"('(?:\\w+))|\\\\r\\\\n|\\\\n|\\\\r|[^a-zA-Z]\"\n",
    "    clean_words = re.sub(pattern,' ',str(words), flags=re.S)\n",
    "    words_arr = clean_words.lower().split()\n",
    "    join_words = ' '.join(words_arr)\n",
    "    return join_words"
   ]
  },
  {
   "cell_type": "code",
   "execution_count": 98,
   "metadata": {},
   "outputs": [
    {
     "name": "stderr",
     "output_type": "stream",
     "text": [
      "[nltk_data] Downloading package stopwords to\n",
      "[nltk_data]     /Users/fuqinwei/nltk_data...\n",
      "[nltk_data]   Unzipping corpora/stopwords.zip.\n"
     ]
    }
   ],
   "source": [
    "# remove stop words\n",
    "import nltk\n",
    "from nltk.corpus import stopwords\n",
    "nltk.download('stopwords')\n",
    "\n",
    "# List of stopwords\n",
    "nl_stopwords = stopwords.words('english')\n",
    "nl_stopwords = set(nl_stopwords)\n",
    "\n",
    "# Add custom words\n",
    "nl_stopwords.update([\"drink\", \"now\", \"wine\", \"flavor\", \n",
    "                     'flavors', 'finish', 'palate', 'show', \n",
    "                     'nose', 'note', 'taste', 'notes',\n",
    "                     'also', 'still', 'yet',\n",
    "                     'feels', 'feel', 'give', 'gives',\n",
    "                     'come', 'comes', 'need', 'needs',\n",
    "                     'seems', 'seem', 'ro'\n",
    "                     'one', 'two'])\n",
    "\n",
    "def remove_stop_words(words, stop_words=nl_stopwords):\n",
    "    word_arr = words.split()\n",
    "    filter_words = [word for word in word_arr if word not in stop_words]\n",
    "    join_words = ' '.join(filter_words)\n",
    "    return join_words"
   ]
  },
  {
   "cell_type": "code",
   "execution_count": 101,
   "metadata": {},
   "outputs": [
    {
     "name": "stderr",
     "output_type": "stream",
     "text": [
      "[nltk_data] Downloading package punkt to /Users/fuqinwei/nltk_data...\n",
      "[nltk_data]   Package punkt is already up-to-date!\n"
     ]
    }
   ],
   "source": [
    "#Stem words\n",
    "import nltk\n",
    "from nltk.tokenize import word_tokenize\n",
    "from nltk.stem.snowball import SnowballStemmer\n",
    "nltk.download('punkt')\n",
    "\n",
    "def stem_words(words, lang='english'):\n",
    "    # tokenize words\n",
    "    tokenized_words = word_tokenize(words, language=lang)\n",
    "    #stem words\n",
    "    stemmer = SnowballStemmer(lang)\n",
    "    stemmed_words = []\n",
    "    for word in tokenized_words:\n",
    "        stemmed_words.append(stemmer.stem(word))\n",
    "    return ' '.join(stemmed_words)"
   ]
  },
  {
   "cell_type": "code",
   "execution_count": 259,
   "metadata": {},
   "outputs": [],
   "source": [
    "desc = df['description']\n",
    "\n",
    "# Apply NLP to descriptions\n",
    "desc = desc.apply(remove_num_punc)\n",
    "desc = desc.apply(remove_stop_words)\n",
    "desc = desc.apply(stem_words)\n",
    "\n",
    "# Replace all descriptions with processed descriptiones in DataFrame\n",
    "df['desc'] = desc"
   ]
  },
  {
   "cell_type": "code",
   "execution_count": 260,
   "metadata": {},
   "outputs": [],
   "source": [
    "from sklearn.feature_extraction.text import CountVectorizer\n",
    "vec = CountVectorizer(stop_words = nl_stopwords, ngram_range=(1, 3), max_features=300) \n",
    "X_train_vec = vec.fit_transform(df['desc'])\n",
    "from sklearn.feature_extraction.text import TfidfTransformer\n",
    "tf = TfidfTransformer()\n",
    "X_tf = tf.fit_transform(X_train_vec)"
   ]
  },
  {
   "cell_type": "code",
   "execution_count": 261,
   "metadata": {},
   "outputs": [
    {
     "name": "stdout",
     "output_type": "stream",
     "text": [
      "                TF-IDF\n",
      "varieti       0.362033\n",
      "price         0.333079\n",
      "silki         0.326757\n",
      "nice          0.307120\n",
      "savori        0.304338\n",
      "smoki         0.297470\n",
      "pinot         0.272597\n",
      "touch         0.255584\n",
      "berri         0.229511\n",
      "light         0.223377\n",
      "textur        0.222000\n",
      "oak           0.206191\n",
      "spice         0.204411\n",
      "perfum        0.000000\n",
      "petit         0.000000\n",
      "plenti        0.000000\n",
      "pineappl      0.000000\n",
      "pinot noir    0.000000\n",
      "pepper        0.000000\n",
      "peel          0.000000\n",
      "pear          0.000000\n",
      "peach         0.000000\n",
      "pleasant      0.000000\n",
      "petit verdot  0.000000\n",
      "power         0.000000\n"
     ]
    },
    {
     "name": "stderr",
     "output_type": "stream",
     "text": [
      "/opt/anaconda3/lib/python3.7/site-packages/sklearn/utils/deprecation.py:87: FutureWarning: Function get_feature_names is deprecated; get_feature_names is deprecated in 1.0 and will be removed in 1.2. Please use get_feature_names_out instead.\n",
      "  warnings.warn(msg, category=FutureWarning)\n"
     ]
    }
   ],
   "source": [
    "tfidf = pd.DataFrame(X_tf[0].T.todense(), index=vec.get_feature_names(), columns=[\"TF-IDF\"])\n",
    "tfidf = tfidf.sort_values('TF-IDF', ascending=False)\n",
    "print (tfidf.head(25))"
   ]
  },
  {
   "cell_type": "code",
   "execution_count": 299,
   "metadata": {},
   "outputs": [],
   "source": [
    "des_feature = X_tf.toarray()[:57056]\n",
    "aug_feature = train_df.iloc[:, :-1].to_numpy()\n",
    "X = np.hstack((des_feature,aug_feature))\n",
    "Y = clean_X[clean_X.id<=57055]['variety'].to_numpy()"
   ]
  },
  {
   "cell_type": "code",
   "execution_count": 300,
   "metadata": {},
   "outputs": [],
   "source": [
    "test_des_feature = X_tf.toarray()[57056:]\n",
    "test_aug_feature = test_df.to_numpy()\n",
    "test_X = np.hstack((test_des_feature,test_aug_feature))"
   ]
  },
  {
   "cell_type": "code",
   "execution_count": 301,
   "metadata": {},
   "outputs": [
    {
     "data": {
      "text/plain": [
       "(14266, 304)"
      ]
     },
     "execution_count": 301,
     "metadata": {},
     "output_type": "execute_result"
    }
   ],
   "source": [
    "test_X.shape"
   ]
  },
  {
   "cell_type": "code",
   "execution_count": 302,
   "metadata": {},
   "outputs": [
    {
     "data": {
      "text/plain": [
       "(57056, 304)"
      ]
     },
     "execution_count": 302,
     "metadata": {},
     "output_type": "execute_result"
    }
   ],
   "source": [
    "X.shape"
   ]
  },
  {
   "cell_type": "code",
   "execution_count": 304,
   "metadata": {},
   "outputs": [
    {
     "data": {
      "text/plain": [
       "array([4, 6, 4, ..., 4, 1, 1])"
      ]
     },
     "execution_count": 304,
     "metadata": {},
     "output_type": "execute_result"
    }
   ],
   "source": [
    "Y"
   ]
  },
  {
   "cell_type": "markdown",
   "metadata": {},
   "source": [
    "## Modeling"
   ]
  },
  {
   "cell_type": "code",
   "execution_count": 305,
   "metadata": {},
   "outputs": [],
   "source": [
    "from sklearn.model_selection import train_test_split\n",
    "\n",
    "X_train, X_test, y_train, y_test = train_test_split(X, Y, test_size=0.2, random_state=77)\n"
   ]
  },
  {
   "cell_type": "code",
   "execution_count": 306,
   "metadata": {},
   "outputs": [
    {
     "name": "stdout",
     "output_type": "stream",
     "text": [
      "[13:12:54] WARNING: /Users/travis/build/dmlc/xgboost/src/learner.cc:576: \n",
      "Parameters: { \"silent\" } might not be used.\n",
      "\n",
      "  This could be a false alarm, with some parameters getting used by language bindings but\n",
      "  then being mistakenly passed down to XGBoost core, or some parameter actually being used\n",
      "  but getting flagged wrongly here. Please open an issue if you find any such cases.\n",
      "\n",
      "\n",
      "[13:12:57] WARNING: /Users/travis/build/dmlc/xgboost/src/learner.cc:1115: Starting in XGBoost 1.3.0, the default evaluation metric used with the objective 'multi:softmax' was changed from 'merror' to 'mlogloss'. Explicitly set eval_metric if you'd like to restore the old behavior.\n"
     ]
    }
   ],
   "source": [
    "params = {\n",
    "    'booster': 'gbtree',\n",
    "    'objective': 'multi:softmax',\n",
    "    'num_class': 10,\n",
    "    'gamma': 0.1,\n",
    "    'max_depth': 6,\n",
    "    'lambda': 2,\n",
    "    'subsample': 0.7,\n",
    "    'colsample_bytree': 0.7,\n",
    "    'min_child_weight': 3,\n",
    "    'silent': 1,\n",
    "    'eta': 0.1,\n",
    "    'seed': 1000,\n",
    "    'nthread': 4,\n",
    "}\n",
    "\n",
    "plst = list(params.items())\n",
    "\n",
    "\n",
    "dtrain = xgb.DMatrix(X_train, y_train)\n",
    "num_rounds = 500\n",
    "model = xgb.train(plst, dtrain, num_rounds)\n",
    "\n",
    "\n",
    "dtest = xgb.DMatrix(X_test)\n",
    "ans = model.predict(dtest)"
   ]
  },
  {
   "cell_type": "code",
   "execution_count": 308,
   "metadata": {},
   "outputs": [
    {
     "name": "stdout",
     "output_type": "stream",
     "text": [
      "Accuracy: 84.69 % \n",
      "              precision    recall  f1-score   support\n",
      "\n",
      "           0       0.89      0.87      0.88      1102\n",
      "           1       0.73      0.79      0.76      1527\n",
      "           2       0.90      0.94      0.92      1913\n",
      "           3       0.68      0.50      0.57       480\n",
      "           4       0.88      0.93      0.90      2088\n",
      "           5       0.82      0.82      0.82      1379\n",
      "           6       0.96      0.94      0.95       846\n",
      "           7       0.91      0.83      0.87       590\n",
      "           8       0.84      0.83      0.83       784\n",
      "           9       0.76      0.66      0.71       703\n",
      "\n",
      "    accuracy                           0.85     11412\n",
      "   macro avg       0.84      0.81      0.82     11412\n",
      "weighted avg       0.85      0.85      0.84     11412\n",
      "\n"
     ]
    }
   ],
   "source": [
    "cnt1 = 0\n",
    "cnt2 = 0\n",
    "for i in range(len(y_test)):\n",
    "    if ans[i] == y_test[i]:\n",
    "        cnt1 += 1\n",
    "    else:\n",
    "        cnt2 += 1\n",
    "\n",
    "print(\"Accuracy: %.2f %% \" % (100 * cnt1 / (cnt1 + cnt2)))\n",
    "print(classification_report(y_test,ans))\n",
    "\n"
   ]
  },
  {
   "cell_type": "code",
   "execution_count": 309,
   "metadata": {},
   "outputs": [],
   "source": [
    "d_test = xgb.DMatrix(test_X)\n",
    "sample_ans = model.predict(d_test)"
   ]
  },
  {
   "cell_type": "code",
   "execution_count": 317,
   "metadata": {},
   "outputs": [],
   "source": [
    "sample = pd.read_csv('sample.csv')\n",
    "sample['variety']=[variety_dic[int(var)] for var in sample_ans]\n",
    "sample.to_csv('output.csv',index=False)\n"
   ]
  },
  {
   "cell_type": "markdown",
   "metadata": {},
   "source": [
    "### Logistic regression\n",
    "- logistic regression is a comprehensive model implemented in binary classification"
   ]
  },
  {
   "cell_type": "code",
   "execution_count": 176,
   "metadata": {},
   "outputs": [],
   "source": [
    "from sklearn.linear_model import LogisticRegression"
   ]
  },
  {
   "cell_type": "code",
   "execution_count": 181,
   "metadata": {},
   "outputs": [
    {
     "name": "stderr",
     "output_type": "stream",
     "text": [
      "/opt/anaconda3/lib/python3.7/site-packages/sklearn/linear_model/_logistic.py:764: ConvergenceWarning: lbfgs failed to converge (status=1):\n",
      "STOP: TOTAL NO. of ITERATIONS REACHED LIMIT.\n",
      "\n",
      "Increase the number of iterations (max_iter) or scale the data as shown in:\n",
      "    https://scikit-learn.org/stable/modules/preprocessing.html\n",
      "Please also refer to the documentation for alternative solver options:\n",
      "    https://scikit-learn.org/stable/modules/linear_model.html#logistic-regression\n",
      "  extra_warning_msg=_LOGISTIC_SOLVER_CONVERGENCE_MSG)\n"
     ]
    }
   ],
   "source": [
    "logreg = LogisticRegression()\n",
    "logreg.fit(X_train, y_train.values.reshape(-1))\n",
    "y_pred = logreg.predict(X_test)"
   ]
  },
  {
   "cell_type": "code",
   "execution_count": 184,
   "metadata": {},
   "outputs": [
    {
     "name": "stdout",
     "output_type": "stream",
     "text": [
      "              precision    recall  f1-score   support\n",
      "\n",
      "           0       0.90      0.93      0.91      9030\n",
      "           1       0.76      0.67      0.71      2924\n",
      "\n",
      "    accuracy                           0.87     11954\n",
      "   macro avg       0.83      0.80      0.81     11954\n",
      "weighted avg       0.86      0.87      0.86     11954\n",
      "\n",
      "AUC score 0.8015406162464986\n"
     ]
    }
   ],
   "source": [
    "print(classification_report(y_test.to_numpy(), y_pred))\n",
    "print('AUC score',roc_auc_score(y_test.to_numpy(), y_pred))"
   ]
  },
  {
   "cell_type": "code",
   "execution_count": 198,
   "metadata": {},
   "outputs": [
    {
     "data": {
      "image/png": "[encoded data removed]",
      "text/plain": [
       "<Figure size 432x288 with 1 Axes>"
      ]
     },
     "metadata": {
      "needs_background": "light"
     },
     "output_type": "display_data"
    }
   ],
   "source": [
    "from sklearn.metrics import roc_curve, auc\n",
    "y_predict = logreg.predict(X_test)\n",
    "y_pred_quant = logreg.predict_proba(X_test)[:, 1]\n",
    "y_pred_bin = logreg.predict(X_test)\n",
    "\n",
    "fpr, tpr, thresholds = roc_curve(y_test.to_numpy(), y_pred_quant)\n",
    "\n",
    "fig, ax = plt.subplots()\n",
    "ax.plot(fpr, tpr)\n",
    "ax.plot([0, 1], [0, 1], transform=ax.transAxes, ls=\"--\", c=\".3\")\n",
    "plt.xlim([0.0, 1.0])\n",
    "plt.ylim([0.0, 1.0])\n",
    "plt.rcParams['font.size'] = 12\n",
    "plt.title('ROC curve for income classifier')\n",
    "plt.xlabel('False Positive Rate (1 - Specificity)')\n",
    "plt.ylabel('True Positive Rate (Sensitivity)')\n",
    "plt.grid(True)"
   ]
  },
  {
   "cell_type": "markdown",
   "metadata": {},
   "source": [
    "### SVM"
   ]
  },
  {
   "cell_type": "code",
   "execution_count": 187,
   "metadata": {},
   "outputs": [
    {
     "name": "stdout",
     "output_type": "stream",
     "text": [
      "Test Accuracy of SVM Algorithm: 87.65%\n",
      "              precision    recall  f1-score   support\n",
      "\n",
      "           0       0.90      0.94      0.92      9030\n",
      "           1       0.78      0.69      0.73      2924\n",
      "\n",
      "    accuracy                           0.88     11954\n",
      "   macro avg       0.84      0.81      0.83     11954\n",
      "weighted avg       0.87      0.88      0.87     11954\n",
      "\n"
     ]
    }
   ],
   "source": [
    "from sklearn.svm import SVC\n",
    "svm = SVC(random_state = 1)\n",
    "svm.fit(X_train, y_train.to_numpy())\n",
    "print(\"Test Accuracy of SVM Algorithm: {:.2f}%\".format(svm.score(X_test,y_test.to_numpy())*100))\n",
    "print(classification_report(y_test.to_numpy(), svm.predict(X_test)))"
   ]
  },
  {
   "cell_type": "code",
   "execution_count": 192,
   "metadata": {},
   "outputs": [
    {
     "name": "stdout",
     "output_type": "stream",
     "text": [
      "AUC score 0.8145544264217316\n"
     ]
    }
   ],
   "source": [
    "print('AUC score',roc_auc_score(y_test.to_numpy(), svm.predict(X_test)))"
   ]
  },
  {
   "cell_type": "markdown",
   "metadata": {},
   "source": [
    "### Naive Bayes "
   ]
  },
  {
   "cell_type": "code",
   "execution_count": 189,
   "metadata": {},
   "outputs": [
    {
     "name": "stdout",
     "output_type": "stream",
     "text": [
      "Accuracy of Naive Bayes: 74.96%\n",
      "              precision    recall  f1-score   support\n",
      "\n",
      "           0       0.96      0.70      0.81      9030\n",
      "           1       0.49      0.92      0.64      2924\n",
      "\n",
      "    accuracy                           0.75     11954\n",
      "   macro avg       0.73      0.81      0.72     11954\n",
      "weighted avg       0.85      0.75      0.77     11954\n",
      "\n"
     ]
    }
   ],
   "source": [
    "from sklearn.naive_bayes import GaussianNB\n",
    "nb = GaussianNB()\n",
    "nb.fit(X_train, y_train.to_numpy())\n",
    "print(\"Accuracy of Naive Bayes: {:.2f}%\".format(nb.score(X_test,y_test.to_numpy())*100))\n",
    "print(classification_report(y_test.to_numpy(), nb.predict(X_test)))"
   ]
  },
  {
   "cell_type": "code",
   "execution_count": 191,
   "metadata": {},
   "outputs": [
    {
     "name": "stdout",
     "output_type": "stream",
     "text": [
      "AUC score 0.8064083773044101\n"
     ]
    }
   ],
   "source": [
    "print('AUC score',roc_auc_score(y_test.to_numpy(), nb.predict(X_test)))"
   ]
  },
  {
   "cell_type": "markdown",
   "metadata": {},
   "source": [
    "### Decision Tree "
   ]
  },
  {
   "cell_type": "code",
   "execution_count": 193,
   "metadata": {},
   "outputs": [
    {
     "name": "stdout",
     "output_type": "stream",
     "text": [
      "Decision Tree Test Accuracy 84.40%\n",
      "              precision    recall  f1-score   support\n",
      "\n",
      "           0       0.90      0.89      0.90      9030\n",
      "           1       0.68      0.69      0.68      2924\n",
      "\n",
      "    accuracy                           0.84     11954\n",
      "   macro avg       0.79      0.79      0.79     11954\n",
      "weighted avg       0.85      0.84      0.84     11954\n",
      "\n"
     ]
    }
   ],
   "source": [
    "from sklearn.tree import DecisionTreeClassifier\n",
    "dtc = DecisionTreeClassifier()\n",
    "dtc.fit(X_train, y_train.to_numpy())\n",
    "print(\"Decision Tree Test Accuracy {:.2f}%\".format(dtc.score(X_test, y_test.to_numpy())*100))\n",
    "print(classification_report(y_test.to_numpy(), dtc.predict(X_test)))\n"
   ]
  },
  {
   "cell_type": "code",
   "execution_count": 194,
   "metadata": {},
   "outputs": [
    {
     "name": "stdout",
     "output_type": "stream",
     "text": [
      "AUC score 0.7925526024363233\n"
     ]
    }
   ],
   "source": [
    "print('AUC score',roc_auc_score(y_test.to_numpy(), dtc.predict(X_test)))"
   ]
  },
  {
   "cell_type": "markdown",
   "metadata": {},
   "source": [
    "### Random Forest"
   ]
  },
  {
   "cell_type": "code",
   "execution_count": 195,
   "metadata": {},
   "outputs": [
    {
     "name": "stdout",
     "output_type": "stream",
     "text": [
      "Random Forest Algorithm Accuracy Score : 89.12%\n",
      "              precision    recall  f1-score   support\n",
      "\n",
      "           0       0.92      0.94      0.93      9030\n",
      "           1       0.79      0.75      0.77      2924\n",
      "\n",
      "    accuracy                           0.89     11954\n",
      "   macro avg       0.86      0.84      0.85     11954\n",
      "weighted avg       0.89      0.89      0.89     11954\n",
      "\n"
     ]
    }
   ],
   "source": [
    "# Random Forest Classification\n",
    "from sklearn.ensemble import RandomForestClassifier\n",
    "rf = RandomForestClassifier(n_estimators = 1000, random_state = 1)\n",
    "rf.fit(X_train, y_train.to_numpy())\n",
    "print(\"Random Forest Algorithm Accuracy Score : {:.2f}%\".format(rf.score(X_test,y_test.to_numpy())*100))\n",
    "print(classification_report(y_test.to_numpy(), rf.predict(X_test)))"
   ]
  },
  {
   "cell_type": "code",
   "execution_count": 196,
   "metadata": {},
   "outputs": [
    {
     "name": "stdout",
     "output_type": "stream",
     "text": [
      "AUC score 0.8448260699628687\n"
     ]
    }
   ],
   "source": [
    "print('AUC score',roc_auc_score(y_test.to_numpy(), rf.predict(X_test)))"
   ]
  },
  {
   "cell_type": "markdown",
   "metadata": {},
   "source": [
    "### XGBoost"
   ]
  },
  {
   "cell_type": "code",
   "execution_count": 179,
   "metadata": {},
   "outputs": [
    {
     "name": "stdout",
     "output_type": "stream",
     "text": [
      "[00:18:44] WARNING: /Users/travis/build/dmlc/xgboost/src/learner.cc:576: \n",
      "Parameters: { \"silent\" } might not be used.\n",
      "\n",
      "  This could be a false alarm, with some parameters getting used by language bindings but\n",
      "  then being mistakenly passed down to XGBoost core, or some parameter actually being used\n",
      "  but getting flagged wrongly here. Please open an issue if you find any such cases.\n",
      "\n",
      "\n",
      "[00:18:44] WARNING: /Users/travis/build/dmlc/xgboost/src/learner.cc:1115: Starting in XGBoost 1.3.0, the default evaluation metric used with the objective 'multi:softmax' was changed from 'merror' to 'mlogloss'. Explicitly set eval_metric if you'd like to restore the old behavior.\n"
     ]
    }
   ],
   "source": [
    "params = {\n",
    "    'booster': 'gbtree',\n",
    "    'objective': 'multi:softmax',\n",
    "    'num_class': 2,\n",
    "    'gamma': 0.1,\n",
    "    'max_depth': 6,\n",
    "    'lambda': 2,\n",
    "    'subsample': 0.7,\n",
    "    'colsample_bytree': 0.7,\n",
    "    'min_child_weight': 3,\n",
    "    'silent': 1,\n",
    "    'eta': 0.1,\n",
    "    'seed': 1000,\n",
    "    'nthread': 4,\n",
    "}\n",
    "\n",
    "plst = list(params.items())\n",
    "\n",
    "\n",
    "dtrain = xgb.DMatrix(X_train, y_train.to_numpy())\n",
    "num_rounds = 500\n",
    "model = xgb.train(plst, dtrain, num_rounds)\n",
    "\n",
    "\n",
    "dtest = xgb.DMatrix(X_test)\n",
    "ans = model.predict(dtest)\n",
    "\n"
   ]
  },
  {
   "cell_type": "code",
   "execution_count": 180,
   "metadata": {},
   "outputs": [
    {
     "name": "stdout",
     "output_type": "stream",
     "text": [
      "Accuracy: 89.67 % \n",
      "AUC score 0.854608820272295\n"
     ]
    },
    {
     "data": {
      "image/png": "[encoded data removed]",
      "text/plain": [
       "<Figure size 432x288 with 1 Axes>"
      ]
     },
     "metadata": {
      "needs_background": "light"
     },
     "output_type": "display_data"
    }
   ],
   "source": [
    "cnt1 = 0\n",
    "cnt2 = 0\n",
    "for i in range(len(y_test)):\n",
    "    if ans[i] == y_test.to_numpy()[i]:\n",
    "        cnt1 += 1\n",
    "    else:\n",
    "        cnt2 += 1\n",
    "\n",
    "print(\"Accuracy: %.2f %% \" % (100 * cnt1 / (cnt1 + cnt2)))\n",
    "print('AUC score',roc_auc_score(y_test.to_numpy(), ans))\n",
    "\n",
    "\n",
    "plot_importance(model)\n",
    "plt.show()"
   ]
  },
  {
   "cell_type": "code",
   "execution_count": 209,
   "metadata": {},
   "outputs": [
    {
     "data": {
      "image/png": "[encoded data removed]",
      "text/plain": [
       "<Figure size 432x288 with 2 Axes>"
      ]
     },
     "metadata": {
      "needs_background": "light"
     },
     "output_type": "display_data"
    }
   ],
   "source": [
    "cm=confusion_matrix(y_test,ans)\n",
    "cm\n",
    "sns.heatmap(pd.DataFrame(cm),annot=True,cmap=\"Reds\")\n",
    "plt.title(\"XGBoost Confusion Matrix\")\n",
    "plt.show()"
   ]
  },
  {
   "cell_type": "code",
   "execution_count": 81,
   "metadata": {},
   "outputs": [],
   "source": [
    "dtest = xgb.DMatrix(clean_test_X.to_numpy())\n",
    "ans = model.predict(dtest)"
   ]
  },
  {
   "cell_type": "code",
   "execution_count": 87,
   "metadata": {},
   "outputs": [],
   "source": [
    "sample = pd.read_csv('sample_submission.csv')"
   ]
  },
  {
   "cell_type": "code",
   "execution_count": 89,
   "metadata": {},
   "outputs": [],
   "source": [
    "sample['income']=[int(label) for label in ans]"
   ]
  },
  {
   "cell_type": "code",
   "execution_count": 91,
   "metadata": {},
   "outputs": [],
   "source": [
    "sample.to_csv('output.csv',index=False)"
   ]
  },
  {
   "cell_type": "code",
   "execution_count": null,
   "metadata": {},
   "outputs": [],
   "source": []
  },
  {
   "cell_type": "code",
   "execution_count": 203,
   "metadata": {},
   "outputs": [
    {
     "data": {
      "image/png": "[encoded data removed]",
      "text/plain": [
       "<Figure size 1008x576 with 1 Axes>"
      ]
     },
     "metadata": {
      "needs_background": "light"
     },
     "output_type": "display_data"
    }
   ],
   "source": [
    "from matplotlib import pyplot as plt\n",
    "#plt.figure(figsize=(14,7))\n",
    "methods = [\"Logistic Regression\", \"SVM\", \"Naive Bayes\", \"Decision Tree\", \"Random Forest\",\"XGBoost\"]\n",
    "score = [0.8015, 0.8146, 0.8064, 0.7926, 0.8448, 0.8546]\n",
    "plt.figure(figsize=(14,8))\n",
    "plt.plot(range(len(methods)),score, '-o',color='blue',alpha = 0.9)\n",
    "\n",
    "plt.bar(x=methods, height=score,color=['red','green','b','pink','orange', 'yellow'])\n",
    "plt.xticks()\n",
    "plt.ylim((0,1))\n",
    "plt.yticks(np.arange(0,1.1,0.3))\n",
    "plt.title('AUC score for income classifiers')\n",
    "plt.xlabel('classifiers')\n",
    "plt.ylabel('AUC score')\n",
    "\n",
    "plt.grid(True)\n",
    "plt.show()"
   ]
  },
  {
   "cell_type": "code",
   "execution_count": 205,
   "metadata": {},
   "outputs": [
    {
     "data": {
      "image/png": "[encoded data removed]",
      "text/plain": [
       "<Figure size 1008x576 with 1 Axes>"
      ]
     },
     "metadata": {
      "needs_background": "light"
     },
     "output_type": "display_data"
    }
   ],
   "source": [
    "methods = [\"Logistic Regression\", \"SVM\", \"Naive Bayes\", \"Decision Tree\", \"Random Forest\",\"XGBoost\"]\n",
    "score = [0.8015, 0.8146, 0.8064, 0.7926, 0.8448, 0.8546]\n",
    "plt.figure(figsize=(14,8))\n",
    "plt.plot(range(len(methods)),score, '-o')\n",
    "\n",
    "plt.xticks(range(0,6,1),labels = methods)\n",
    "plt.title('AUC score for income classifiers')\n",
    "plt.grid(visible=True)\n",
    "\n",
    "plt.show()"
   ]
  },
  {
   "cell_type": "code",
   "execution_count": 206,
   "metadata": {},
   "outputs": [],
   "source": [
    "# Predicted values\n",
    "y_head_lr = logreg.predict(X_test)\n",
    "y_head_svm = svm.predict(X_test)\n",
    "y_head_nb = nb.predict(X_test)\n",
    "y_head_dtc = dtc.predict(X_test)\n",
    "y_head_rf = rf.predict(X_test)\n",
    "y_head_xgb = ans"
   ]
  },
  {
   "cell_type": "code",
   "execution_count": 207,
   "metadata": {},
   "outputs": [],
   "source": [
    "from sklearn.metrics import confusion_matrix\n",
    "y_test = y_test.to_numpy()\n",
    "cm_lr = confusion_matrix(y_test,y_head_lr)\n",
    "cm_svm = confusion_matrix(y_test,y_head_svm)\n",
    "cm_nb = confusion_matrix(y_test,y_head_nb)\n",
    "cm_dtc = confusion_matrix(y_test,y_head_dtc)\n",
    "cm_rf = confusion_matrix(y_test,y_head_rf)\n",
    "cm_xgb = confusion_matrix(y_test,y_head_xgb)"
   ]
  },
  {
   "cell_type": "code",
   "execution_count": 208,
   "metadata": {},
   "outputs": [
    {
     "data": {
      "image/png": "[encoded data removed]",
      "text/plain": [
       "<Figure size 1728x864 with 6 Axes>"
      ]
     },
     "metadata": {
      "needs_background": "light"
     },
     "output_type": "display_data"
    }
   ],
   "source": [
    "plt.figure(figsize=(24,12))\n",
    "\n",
    "plt.suptitle(\"Confusion Matrixes\",fontsize=24)\n",
    "plt.subplots_adjust(wspace = 0.4, hspace= 0.4)\n",
    "\n",
    "plt.subplot(2,3,1)\n",
    "plt.title(\"Logistic Regression Confusion Matrix\")\n",
    "sns.heatmap(cm_lr,annot=True,cmap=\"Blues\",fmt=\"d\",cbar=False)\n",
    "\n",
    "plt.subplot(2,3,2)\n",
    "plt.title(\"XGBoost Confusion Matrix\")\n",
    "sns.heatmap(cm_xgb,annot=True,cmap=\"Blues\",fmt=\"d\",cbar=False)\n",
    "\n",
    "plt.subplot(2,3,3)\n",
    "plt.title(\"Support Vector Machine Confusion Matrix\")\n",
    "sns.heatmap(cm_svm,annot=True,cmap=\"Blues\",fmt=\"d\",cbar=False)\n",
    "\n",
    "plt.subplot(2,3,4)\n",
    "plt.title(\"Naive Bayes Confusion Matrix\")\n",
    "sns.heatmap(cm_nb,annot=True,cmap=\"Blues\",fmt=\"d\",cbar=False)\n",
    "\n",
    "plt.subplot(2,3,5)\n",
    "plt.title(\"Decision Tree Classifier Confusion Matrix\")\n",
    "sns.heatmap(cm_dtc,annot=True,cmap=\"Blues\",fmt=\"d\",cbar=False)\n",
    "\n",
    "plt.subplot(2,3,6)\n",
    "plt.title(\"Random Forest Confusion Matrix\")\n",
    "sns.heatmap(cm_rf,annot=True,cmap=\"Blues\",fmt=\"d\",cbar=False)\n",
    "\n",
    "plt.show()"
   ]
  },
  {
   "cell_type": "code",
   "execution_count": null,
   "metadata": {},
   "outputs": [],
   "source": []
  }
 ],
 "metadata": {
  "kernelspec": {
   "display_name": "Python 3",
   "language": "python",
   "name": "python3"
  },
  "language_info": {
   "codemirror_mode": {
    "name": "ipython",
    "version": 3
   },
   "file_extension": ".py",
   "mimetype": "text/x-python",
   "name": "python",
   "nbconvert_exporter": "python",
   "pygments_lexer": "ipython3",
   "version": "3.7.6"
  }
 },
 "nbformat": 4,
 "nbformat_minor": 5
}
